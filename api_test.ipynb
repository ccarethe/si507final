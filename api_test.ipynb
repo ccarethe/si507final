{
 "cells": [
  {
   "cell_type": "code",
   "execution_count": 2,
   "metadata": {},
   "outputs": [],
   "source": [
    "import requests"
   ]
  },
  {
   "cell_type": "code",
   "execution_count": 21,
   "metadata": {},
   "outputs": [
    {
     "data": {
      "text/plain": [
       "dict_keys(['id', 'title', 'description', 'link', 'closed', 'categories', 'sources', 'geometry'])"
      ]
     },
     "execution_count": 21,
     "metadata": {},
     "output_type": "execute_result"
    }
   ],
   "source": [
    "# NASA EONET API\n",
    "eventsUrl = 'https://eonet.gsfc.nasa.gov/api/v3/events'\n",
    "params = {'id': 'PDC', 'limit': 5, 'status': 'closed'}\n",
    "response = requests.get(eventsUrl, params=params).json()\n",
    "response['events'][0].keys()"
   ]
  },
  {
   "cell_type": "code",
   "execution_count": null,
   "metadata": {},
   "outputs": [],
   "source": [
    "# NASA ASTEROID API\n",
    "key = '2GqWtIMHBhEMlAcXnnp1zkbU2QadWavb9ARxdMpc'\n",
    "browseUrl = 'https://api.nasa.gov/neo/rest/v1/neo/browse'\n",
    "params = {'api_key': key}\n",
    "response = requests.get(browseUrl, params=params).json()\n",
    "response\n"
   ]
  },
  {
   "cell_type": "code",
   "execution_count": null,
   "metadata": {},
   "outputs": [],
   "source": [
    "url = 'https://health.gov/myhealthfinder/api/v3/topicsearch.json'\n",
    "response = requests.get(url).json()\n",
    "response"
   ]
  },
  {
   "cell_type": "code",
   "execution_count": null,
   "metadata": {},
   "outputs": [],
   "source": [
    "# NATIONAL PARKS\n",
    "key = '2GqWtIMHBhEMlAcXnnp1zkbU2QadWavb9ARxdMpc'\n",
    "endpoint = 'https://developer.nps.gov/api/v1/parks'\n",
    "params = {'api_key': key, 'limit': 5}\n",
    "\n",
    "# requests.get(endpoint, params=params).json()"
   ]
  },
  {
   "cell_type": "code",
   "execution_count": 6,
   "metadata": {},
   "outputs": [
    {
     "data": {
      "text/plain": [
       "<Response [404]>"
      ]
     },
     "execution_count": 6,
     "metadata": {},
     "output_type": "execute_result"
    }
   ],
   "source": [
    "url = 'https://api.yelp.com/v3/events/'\n",
    "clientID = 'Xa2X7p-EvI08p5ko_Ox8_Q'\n",
    "key = '5j-QStG5tWehIIyMC3t4MekN1SDplrK8CNdGAXuWNODsWTOSPqdy2GLjYim_KDtaAWTtEkFJ2H2zGg3dszeVDqi0bz81Gd-NuEx8TSl4ixotPoyGKQ0fjTRI06U-ZXYx'\n",
    "\n",
    "requests.get(url)"
   ]
  },
  {
   "cell_type": "code",
   "execution_count": null,
   "metadata": {},
   "outputs": [],
   "source": []
  }
 ],
 "metadata": {
  "kernelspec": {
   "display_name": "Python 3",
   "language": "python",
   "name": "python3"
  },
  "language_info": {
   "codemirror_mode": {
    "name": "ipython",
    "version": 3
   },
   "file_extension": ".py",
   "mimetype": "text/x-python",
   "name": "python",
   "nbconvert_exporter": "python",
   "pygments_lexer": "ipython3",
   "version": "3.11.5"
  }
 },
 "nbformat": 4,
 "nbformat_minor": 2
}
